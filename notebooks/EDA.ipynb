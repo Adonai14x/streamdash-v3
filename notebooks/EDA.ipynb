{
 "cells": [
  {
   "cell_type": "code",
   "execution_count": null,
   "id": "a862f58b",
   "metadata": {
    "vscode": {
     "languageId": "plaintext"
    }
   },
   "outputs": [],
   "source": [
    "import pandas as pandas\n",
    "import plotly.express as px\n",
    "\n",
    "df = pd.read_csv(\"../vehicle_us.csv\")\n",
    "df.info()\n",
    "df.describe()\n",
    "\n",
    "px.histogram(df, x=\"odometer\")\n",
    "px,scatter(df, x=\"year\", y=\"price\", color=\"condition\")"
   ]
  }
 ],
 "metadata": {
  "language_info": {
   "name": "python"
  }
 },
 "nbformat": 4,
 "nbformat_minor": 5
}
